{
 "cells": [
  {
   "cell_type": "markdown",
   "metadata": {},
   "source": [
    "## Dictionary"
   ]
  },
  {
   "cell_type": "code",
   "execution_count": 1,
   "metadata": {},
   "outputs": [],
   "source": [
    "# We use list, tuple and set to represent group of objects as single enity.\n",
    "# In dictionary it has a combination of key:value pairs"
   ]
  },
  {
   "cell_type": "code",
   "execution_count": 2,
   "metadata": {},
   "outputs": [],
   "source": [
    "# Duplicate keys are not allowed but values can be duplicated.\n",
    "# Dictionaries are mutable\n",
    "# Dictionary does not allow indexing and slicing.\n",
    "# Insertion order is not preserved."
   ]
  },
  {
   "cell_type": "code",
   "execution_count": 3,
   "metadata": {},
   "outputs": [
    {
     "name": "stdout",
     "output_type": "stream",
     "text": [
      "{}\n",
      "<class 'dict'>\n"
     ]
    }
   ],
   "source": [
    "d={}\n",
    "print(d)\n",
    "print(type(d))"
   ]
  },
  {
   "cell_type": "code",
   "execution_count": 4,
   "metadata": {},
   "outputs": [
    {
     "name": "stdout",
     "output_type": "stream",
     "text": [
      "{2: 'apple', 4: 'banana', 5: 'grapes'}\n"
     ]
    }
   ],
   "source": [
    "d[2]='apple'\n",
    "d[4]= 'banana'\n",
    "d[5]= 'grapes'\n",
    "print(d)"
   ]
  },
  {
   "cell_type": "code",
   "execution_count": 5,
   "metadata": {},
   "outputs": [
    {
     "name": "stdout",
     "output_type": "stream",
     "text": [
      "{2: 'apple', 4: 'banana', 5: 'grapes'}\n"
     ]
    }
   ],
   "source": [
    "# d{key:value}\n",
    "d={2:'apple', 4:'banana', 5:'grapes'}\n",
    "print(d)"
   ]
  },
  {
   "cell_type": "code",
   "execution_count": 6,
   "metadata": {},
   "outputs": [
    {
     "data": {
      "text/plain": [
       "'apple'"
      ]
     },
     "execution_count": 6,
     "metadata": {},
     "output_type": "execute_result"
    }
   ],
   "source": [
    "# Access data from dictionary\n",
    "d[2]"
   ]
  },
  {
   "cell_type": "code",
   "execution_count": 7,
   "metadata": {},
   "outputs": [
    {
     "data": {
      "text/plain": [
       "'banana'"
      ]
     },
     "execution_count": 7,
     "metadata": {},
     "output_type": "execute_result"
    }
   ],
   "source": [
    "d[4]"
   ]
  },
  {
   "cell_type": "code",
   "execution_count": 13,
   "metadata": {},
   "outputs": [
    {
     "name": "stdout",
     "output_type": "stream",
     "text": [
      "{1: 'bat', 2: 'ball', 3: 'cat', 4: 'dog'}\n",
      "{1: 'bat', 2: 'fall', 3: 'cat', 4: 'dog'}\n"
     ]
    }
   ],
   "source": [
    "# In dictionary key cannot be changed but value can be changed\n",
    "d={1:'bat', 2:'ball', 3:'cat', 4:'dog'}\n",
    "print(d)\n",
    "d[2]='fall'\n",
    "print(d)"
   ]
  },
  {
   "cell_type": "code",
   "execution_count": 14,
   "metadata": {},
   "outputs": [
    {
     "name": "stdout",
     "output_type": "stream",
     "text": [
      "{1: 'bat', 2: 'fall', 3: 'cat', 4: 'dog', 5: 'snake'}\n"
     ]
    }
   ],
   "source": [
    "# extra key:value can be added\n",
    "d[5]='snake'\n",
    "print(d)"
   ]
  },
  {
   "cell_type": "markdown",
   "metadata": {},
   "source": [
    "### Important functions of dictionary"
   ]
  },
  {
   "cell_type": "markdown",
   "metadata": {},
   "source": [
    "#### del[key] : by using key it can be deleted"
   ]
  },
  {
   "cell_type": "code",
   "execution_count": 10,
   "metadata": {},
   "outputs": [
    {
     "name": "stdout",
     "output_type": "stream",
     "text": [
      "{1: 'bat', 2: 'fall', 3: 'cat', 4: 'dog', 5: 'snake'}\n",
      "{1: 'bat', 3: 'cat', 4: 'dog', 5: 'snake'}\n"
     ]
    }
   ],
   "source": [
    "print(d)\n",
    "del d[2]\n",
    "print(d)"
   ]
  },
  {
   "cell_type": "markdown",
   "metadata": {},
   "source": [
    "#### clear() : it removes all key:values"
   ]
  },
  {
   "cell_type": "code",
   "execution_count": 15,
   "metadata": {},
   "outputs": [
    {
     "name": "stdout",
     "output_type": "stream",
     "text": [
      "{1: 'bat', 2: 'fall', 3: 'cat', 4: 'dog', 5: 'snake'}\n",
      "{}\n"
     ]
    }
   ],
   "source": [
    "print(d)\n",
    "d.clear()\n",
    "print(d)"
   ]
  },
  {
   "cell_type": "markdown",
   "metadata": {},
   "source": [
    "#### del() : deletes entire dictionary"
   ]
  },
  {
   "cell_type": "code",
   "execution_count": 17,
   "metadata": {},
   "outputs": [
    {
     "name": "stdout",
     "output_type": "stream",
     "text": [
      "{1: 'bat', 2: 'fall', 3: 'cat', 4: 'dog', 5: 'snake'}\n"
     ]
    },
    {
     "ename": "NameError",
     "evalue": "name 'd' is not defined",
     "output_type": "error",
     "traceback": [
      "\u001b[1;31m---------------------------------------------------------------------------\u001b[0m",
      "\u001b[1;31mNameError\u001b[0m                                 Traceback (most recent call last)",
      "\u001b[1;32m<ipython-input-17-1a57caf085c8>\u001b[0m in \u001b[0;36m<module>\u001b[1;34m\u001b[0m\n\u001b[0;32m      2\u001b[0m \u001b[0mprint\u001b[0m\u001b[1;33m(\u001b[0m\u001b[0md\u001b[0m\u001b[1;33m)\u001b[0m\u001b[1;33m\u001b[0m\u001b[1;33m\u001b[0m\u001b[0m\n\u001b[0;32m      3\u001b[0m \u001b[1;32mdel\u001b[0m \u001b[0md\u001b[0m\u001b[1;33m\u001b[0m\u001b[1;33m\u001b[0m\u001b[0m\n\u001b[1;32m----> 4\u001b[1;33m \u001b[0mprint\u001b[0m\u001b[1;33m(\u001b[0m\u001b[0md\u001b[0m\u001b[1;33m)\u001b[0m\u001b[1;33m\u001b[0m\u001b[1;33m\u001b[0m\u001b[0m\n\u001b[0m",
      "\u001b[1;31mNameError\u001b[0m: name 'd' is not defined"
     ]
    }
   ],
   "source": [
    "d={1: 'bat', 2: 'fall', 3: 'cat', 4: 'dog', 5: 'snake'}\n",
    "print(d)\n",
    "del d\n",
    "print(d)"
   ]
  },
  {
   "cell_type": "code",
   "execution_count": 18,
   "metadata": {},
   "outputs": [],
   "source": [
    "# NameError: name 'd' is not defined\n",
    "# del d : delets entire dictionary"
   ]
  },
  {
   "cell_type": "markdown",
   "metadata": {},
   "source": [
    "#### dict() : creates dictionary "
   ]
  },
  {
   "cell_type": "code",
   "execution_count": 20,
   "metadata": {},
   "outputs": [],
   "source": [
    "d=dict()\n",
    "d=dict({1: 'bat', 2: 'buffalo', 3: 'cat', 4: 'frog', 5: 'snail'})\n",
    "d=dict([(1,'bat'),(2,'buffalo')]) #it creates dictionary with list of tuples"
   ]
  },
  {
   "cell_type": "code",
   "execution_count": 21,
   "metadata": {},
   "outputs": [
    {
     "data": {
      "text/plain": [
       "{1: 'bat', 2: 'buffalo'}"
      ]
     },
     "execution_count": 21,
     "metadata": {},
     "output_type": "execute_result"
    }
   ],
   "source": [
    "d"
   ]
  },
  {
   "cell_type": "markdown",
   "metadata": {},
   "source": [
    "#### get() : to get specified key"
   ]
  },
  {
   "cell_type": "code",
   "execution_count": 28,
   "metadata": {},
   "outputs": [
    {
     "name": "stdout",
     "output_type": "stream",
     "text": [
      "bat\n"
     ]
    }
   ],
   "source": [
    "d=dict({1: 'bat', 2: 'buffalo', 3: 'cat', 4: 'frog', 5: 'snail'})\n",
    "print(d.get(1))"
   ]
  },
  {
   "cell_type": "code",
   "execution_count": 23,
   "metadata": {},
   "outputs": [
    {
     "name": "stdout",
     "output_type": "stream",
     "text": [
      "pigeon\n",
      "bird\n"
     ]
    }
   ],
   "source": [
    "print(d.get(6,'pigeon'))\n",
    "print(d.get(7, 'bird'))"
   ]
  },
  {
   "cell_type": "code",
   "execution_count": 24,
   "metadata": {},
   "outputs": [
    {
     "name": "stdout",
     "output_type": "stream",
     "text": [
      "{1: 'bat', 2: 'buffalo', 3: 'cat', 4: 'frog', 5: 'snail'}\n"
     ]
    }
   ],
   "source": [
    "print(d)"
   ]
  },
  {
   "cell_type": "code",
   "execution_count": 26,
   "metadata": {},
   "outputs": [
    {
     "name": "stdout",
     "output_type": "stream",
     "text": [
      "bat\n",
      "{1: 'bat', 2: 'buffalo', 3: 'cat', 4: 'frog', 5: 'snail'}\n"
     ]
    }
   ],
   "source": [
    "print(d.get(1))\n",
    "print(d)"
   ]
  },
  {
   "cell_type": "markdown",
   "metadata": {},
   "source": [
    "#### pop() : it removes specified value associated with key"
   ]
  },
  {
   "cell_type": "code",
   "execution_count": 29,
   "metadata": {},
   "outputs": [
    {
     "name": "stdout",
     "output_type": "stream",
     "text": [
      "{1: 'bat', 2: 'buffalo', 3: 'cat', 4: 'frog', 5: 'snail'}\n",
      "bat\n",
      "{2: 'buffalo', 3: 'cat', 4: 'frog', 5: 'snail'}\n"
     ]
    }
   ],
   "source": [
    "print(d)\n",
    "print(d.pop(1))\n",
    "print(d)"
   ]
  },
  {
   "cell_type": "markdown",
   "metadata": {},
   "source": [
    "#### popitem() : it removes random key:value"
   ]
  },
  {
   "cell_type": "code",
   "execution_count": 30,
   "metadata": {},
   "outputs": [
    {
     "name": "stdout",
     "output_type": "stream",
     "text": [
      "{2: 'buffalo', 3: 'cat', 4: 'frog', 5: 'snail'}\n",
      "(5, 'snail')\n",
      "{2: 'buffalo', 3: 'cat', 4: 'frog'}\n"
     ]
    }
   ],
   "source": [
    "print(d)\n",
    "print(d.popitem())\n",
    "print(d)"
   ]
  },
  {
   "cell_type": "markdown",
   "metadata": {},
   "source": [
    "#### keys() : it displays  key"
   ]
  },
  {
   "cell_type": "code",
   "execution_count": 32,
   "metadata": {},
   "outputs": [
    {
     "name": "stdout",
     "output_type": "stream",
     "text": [
      "dict_keys([1, 2, 3, 4, 5])\n"
     ]
    }
   ],
   "source": [
    "d={1: 'bat', 2: 'buffalo', 3: 'cat', 4: 'frog', 5: 'snail'}\n",
    "print(d.keys())"
   ]
  },
  {
   "cell_type": "markdown",
   "metadata": {},
   "source": [
    "#### values() : it displays  values"
   ]
  },
  {
   "cell_type": "code",
   "execution_count": 33,
   "metadata": {},
   "outputs": [
    {
     "name": "stdout",
     "output_type": "stream",
     "text": [
      "dict_values(['bat', 'buffalo', 'cat', 'frog', 'snail'])\n"
     ]
    }
   ],
   "source": [
    "d={1: 'bat', 2: 'buffalo', 3: 'cat', 4: 'frog', 5: 'snail'}\n",
    "print(d.values())"
   ]
  },
  {
   "cell_type": "code",
   "execution_count": 37,
   "metadata": {},
   "outputs": [
    {
     "name": "stdout",
     "output_type": "stream",
     "text": [
      "bat\n",
      "buffalo\n",
      "cat\n",
      "frog\n",
      "snail\n"
     ]
    }
   ],
   "source": [
    "for i in d.values():\n",
    "    print(i)"
   ]
  },
  {
   "cell_type": "markdown",
   "metadata": {},
   "source": [
    "#### setdefault() : returns corresponding value if exists. if not it creates new key:value"
   ]
  },
  {
   "cell_type": "code",
   "execution_count": 39,
   "metadata": {},
   "outputs": [
    {
     "name": "stdout",
     "output_type": "stream",
     "text": [
      "{1: 'bat', 2: 'buffalo', 3: 'cat', 4: 'frog', 5: 'snail'}\n",
      "bat\n",
      "{1: 'bat', 2: 'buffalo', 3: 'cat', 4: 'frog', 5: 'snail'}\n",
      "eagle\n",
      "{1: 'bat', 2: 'buffalo', 3: 'cat', 4: 'frog', 5: 'snail', 6: 'eagle'}\n"
     ]
    }
   ],
   "source": [
    "d={1: 'bat', 2: 'buffalo', 3: 'cat', 4: 'frog', 5: 'snail'}\n",
    "print(d)\n",
    "print(d.setdefault(1,'bad'))\n",
    "print(d)\n",
    "print(d.setdefault(6,'eagle'))\n",
    "print(d)"
   ]
  },
  {
   "cell_type": "markdown",
   "metadata": {},
   "source": [
    "#### Dictionary comprehension"
   ]
  },
  {
   "cell_type": "code",
   "execution_count": 41,
   "metadata": {},
   "outputs": [
    {
     "name": "stdout",
     "output_type": "stream",
     "text": [
      "{0: 0, 1: 1, 2: 4, 3: 9, 4: 16}\n"
     ]
    }
   ],
   "source": [
    "dict={x:x**2 for x in range(5)}\n",
    "print(dict)"
   ]
  },
  {
   "cell_type": "code",
   "execution_count": null,
   "metadata": {},
   "outputs": [],
   "source": []
  }
 ],
 "metadata": {
  "kernelspec": {
   "display_name": "Python 3",
   "language": "python",
   "name": "python3"
  },
  "language_info": {
   "codemirror_mode": {
    "name": "ipython",
    "version": 3
   },
   "file_extension": ".py",
   "mimetype": "text/x-python",
   "name": "python",
   "nbconvert_exporter": "python",
   "pygments_lexer": "ipython3",
   "version": "3.8.3"
  }
 },
 "nbformat": 4,
 "nbformat_minor": 4
}
